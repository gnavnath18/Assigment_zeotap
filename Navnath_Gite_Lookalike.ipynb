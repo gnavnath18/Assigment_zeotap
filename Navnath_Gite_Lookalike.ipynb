{
  "nbformat": 4,
  "nbformat_minor": 0,
  "metadata": {
    "colab": {
      "provenance": []
    },
    "kernelspec": {
      "name": "python3",
      "display_name": "Python 3"
    },
    "language_info": {
      "name": "python"
    }
  },
  "cells": [
    {
      "cell_type": "code",
      "execution_count": 1,
      "metadata": {
        "id": "cK4s1CR7fkdg"
      },
      "outputs": [],
      "source": [
        "import pandas as pd\n",
        "from sklearn.preprocessing import StandardScaler\n",
        "from sklearn.metrics.pairwise import cosine_similarity"
      ]
    },
    {
      "cell_type": "code",
      "source": [
        "customers = pd.read_csv('/content/drive/MyDrive/Colab Notebooks/Customers.csv')\n",
        "transactions = pd.read_csv('/content/drive/MyDrive/Colab Notebooks/Transactions.csv')"
      ],
      "metadata": {
        "id": "6bkZtUV7gRk9"
      },
      "execution_count": 2,
      "outputs": []
    },
    {
      "cell_type": "code",
      "source": [
        "customer_product_matrix = pd.merge(transactions, customers, on='CustomerID')\n",
        "customer_product_matrix = customer_product_matrix.pivot_table(index='CustomerID', columns='ProductID', values='Quantity', fill_value=0)\n"
      ],
      "metadata": {
        "id": "B6cYffXngRYC"
      },
      "execution_count": 3,
      "outputs": []
    },
    {
      "cell_type": "code",
      "source": [
        "scaler = StandardScaler()\n",
        "scaled_data = scaler.fit_transform(customer_product_matrix)"
      ],
      "metadata": {
        "id": "gZ5YOKlagy5S"
      },
      "execution_count": 4,
      "outputs": []
    },
    {
      "cell_type": "code",
      "source": [
        "similarity_matrix = cosine_similarity(scaled_data)"
      ],
      "metadata": {
        "id": "S7qka3bKgynG"
      },
      "execution_count": 5,
      "outputs": []
    },
    {
      "cell_type": "code",
      "source": [
        "def get_top_lookalikes(customer_id, similarity_matrix, customer_ids, top_n=3):\n",
        "    customer_index = customer_ids.index(customer_id)\n",
        "    similarity_scores = similarity_matrix[customer_index]\n",
        "    sorted_indices = similarity_scores.argsort()[::-1]\n",
        "    top_indices = sorted_indices[1:top_n + 1]\n",
        "    top_customer_ids = [customer_ids[i] for i in top_indices]\n",
        "    top_scores = [similarity_scores[i] for i in top_indices]\n",
        "    return list(zip(top_customer_ids, top_scores))"
      ],
      "metadata": {
        "id": "ab1t70TRgyaX"
      },
      "execution_count": 6,
      "outputs": []
    },
    {
      "cell_type": "code",
      "source": [
        "customer_ids = customer_product_matrix.index.tolist()\n",
        "lookalikes = {}\n",
        "for customer_id in customer_ids[:20]:\n",
        "    lookalikes[customer_id] = get_top_lookalikes(customer_id, similarity_matrix, customer_ids)"
      ],
      "metadata": {
        "id": "DIQQyUgWhEvP"
      },
      "execution_count": 7,
      "outputs": []
    },
    {
      "cell_type": "code",
      "source": [
        "lookalike_df = pd.DataFrame.from_dict(lookalikes, orient='index')\n",
        "lookalike_df.to_csv('Lookalike.csv', index=True)"
      ],
      "metadata": {
        "id": "plt6y9BMhEjN"
      },
      "execution_count": 8,
      "outputs": []
    },
    {
      "cell_type": "code",
      "source": [
        "import os\n",
        "import pandas as pd\n",
        "\n",
        "current_directory = os.getcwd()\n",
        "file_path = os.path.join(current_directory, 'Lookalike.csv')\n",
        "lookalike_df.to_csv(file_path, index=True)\n",
        "\n",
        "print(f\"The Lookalike.csv file is located at: {file_path}\")"
      ],
      "metadata": {
        "colab": {
          "base_uri": "https://localhost:8080/"
        },
        "id": "t-e7xY1Wh_4j",
        "outputId": "c831d018-2c8c-4c94-8c6a-dbec9b486604"
      },
      "execution_count": 9,
      "outputs": [
        {
          "output_type": "stream",
          "name": "stdout",
          "text": [
            "The Lookalike.csv file is located at: /content/Lookalike.csv\n"
          ]
        }
      ]
    },
    {
      "cell_type": "code",
      "source": [
        "from google.colab import drive\n",
        "drive.mount('/content/drive')"
      ],
      "metadata": {
        "colab": {
          "base_uri": "https://localhost:8080/"
        },
        "id": "juIBvXgDiGZx",
        "outputId": "9a9bba82-aac1-4bb9-94a7-7c3d30e44b7b"
      },
      "execution_count": 12,
      "outputs": [
        {
          "output_type": "stream",
          "name": "stdout",
          "text": [
            "Drive already mounted at /content/drive; to attempt to forcibly remount, call drive.mount(\"/content/drive\", force_remount=True).\n"
          ]
        }
      ]
    }
  ]
}